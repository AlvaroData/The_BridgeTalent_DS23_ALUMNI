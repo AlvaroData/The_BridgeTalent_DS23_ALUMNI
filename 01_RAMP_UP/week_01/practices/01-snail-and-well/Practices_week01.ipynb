{
 "cells": [
  {
   "attachments": {},
   "cell_type": "markdown",
   "metadata": {},
   "source": [
    "### EL caracol y el pozo ###\n",
    "Datos. Función que nos diga los días que tarda un caracol en recorrer 125cm si cada día recorre 30cm y retrocede 20cm por la noche."
   ]
  },
  {
   "cell_type": "code",
   "execution_count": 10,
   "metadata": {},
   "outputs": [
    {
     "name": "stdout",
     "output_type": "stream",
     "text": [
      "El caracol tarda 11 días en recorrer 125cm\n"
     ]
    }
   ],
   "source": [
    "def dias_caracol(distancia):#Indicamos el objetivo de la función determinando el resultado que queremos sacar\n",
    "\n",
    "    dias = 0\n",
    "    distancia_recorrida = 0  #Inicializamos los contadores de distancia y dias\n",
    "\n",
    "    while distancia_recorrida < distancia: #Generamos un bucle que permita decir que mientras la distancia sea menor a la recorrida, siga avanzando y retrocediendo\n",
    "        dias += 1\n",
    "        distancia_recorrida += 30\n",
    "        if distancia_recorrida >= distancia:\n",
    "            break #Colocamos el break para indicar el punto en el que debe parar por tener la respuesta\n",
    "        else:\n",
    "            distancia_recorrida -= 20\n",
    "    \n",
    "    return dias #Pedimos que nos devuelva el número de días que tardó en recorrer la distancia\n",
    "\n",
    "dias = dias_caracol(125)\n",
    "print(\"El caracol tarda\", dias, \"días en recorrer 125cm\")\n"
   ]
  },
  {
   "attachments": {},
   "cell_type": "markdown",
   "metadata": {},
   "source": [
    "### Duelo de magos ###"
   ]
  },
  {
   "cell_type": "code",
   "execution_count": 21,
   "metadata": {},
   "outputs": [],
   "source": [
    "def resultados_enfrentamientos(Gandalf, Saruman):\n",
    "    # Inicializamos la variable para almacenar la suma de los enfrentamientos\n",
    "    suma = 0\n",
    "\n",
    "    Gandalf = [10, 11, 13, 30, 22, 11, 10, 33, 22, 22]\n",
    "    Saruman = [23, 66, 12, 43, 12, 10, 44, 23, 12, 17]\n",
    "    \n",
    "    # Iteramos a través de los valores de las listas A y B y calculamos la suma de los enfrentamientos\n",
    "    for i in range(9):\n",
    "            if Gandalf(i) > Saruman(i):\n",
    "             suma += Gandalf(i) - Saruman(i)\n",
    "            elif Gandalf(i) < Saruman(i):\n",
    "                suma += Saruman(i) - Gandalf(i)\n",
    "    \n",
    "    # Comparamos la suma de los enfrentamientos para determinar quién gana o si hay empate\n",
    "    if suma > 0:\n",
    "        print(\"Gandalf gana con una diferencia de\", suma)\n",
    "    elif suma < 0:\n",
    "        print(\"Saruman gana con una diferencia de\", suma)\n",
    "    else:\n",
    "        print(\"Empate\")\n"
   ]
  },
  {
   "cell_type": "markdown",
   "metadata": {},
   "source": []
  },
  {
   "attachments": {},
   "cell_type": "markdown",
   "metadata": {},
   "source": [
    "### Conteo, media y desviación del autobús ###"
   ]
  },
  {
   "cell_type": "code",
   "execution_count": 22,
   "metadata": {},
   "outputs": [
    {
     "name": "stdout",
     "output_type": "stream",
     "text": [
      "Número de paradas: 7\n",
      "Máxima ocupación: 11\n",
      "Media de ocupación: 8.428571428571429\n",
      "Desviación estándar de la ocupación: 8.21273277245989\n"
     ]
    }
   ],
   "source": [
    "import math\n",
    "\n",
    "def calcular_estadisticas_autobus(lista_elementos):\n",
    "    ocupacion = 0  # Inicializamos la ocupación del autobús\n",
    "    max_ocupacion = 0  # Inicializamos la máxima ocupación del autobús\n",
    "    suma_ocupacion = 0  # Inicializamos la suma de la ocupación del autobús para calcular la media\n",
    "    paradas = 1  # Inicializamos el número de paradas\n",
    "    \n",
    "    # Iteramos a través de la lista de elementos para calcular las estadísticas del autobús\n",
    "    for i in range(len(lista_elementos)):\n",
    "        ocupacion += lista_elementos[i][0] - lista_elementos[i][1]  # Calculamos la ocupación en cada parada\n",
    "        suma_ocupacion += ocupacion  # Actualizamos la suma de la ocupación para calcular la media\n",
    "        max_ocupacion = max(max_ocupacion, ocupacion)  # Actualizamos la máxima ocupación\n",
    "        if lista_elementos[i][1] > 0:  # Si hay pasajeros bajando en esta parada, incrementamos el número de paradas\n",
    "            paradas += 1\n",
    "    \n",
    "    # Calculamos la media de la ocupación del autobús\n",
    "    media_ocupacion = suma_ocupacion / len(lista_elementos)\n",
    "    \n",
    "    # Calculamos la desviación estándar de la ocupación del autobús\n",
    "    suma_cuadrados = 0\n",
    "    for i in range(len(lista_elementos)):\n",
    "        ocupacion = lista_elementos[i][0] - lista_elementos[i][1]\n",
    "        suma_cuadrados += (ocupacion - media_ocupacion) ** 2\n",
    "    desviacion_estandar = math.sqrt(suma_cuadrados / len(lista_elementos))\n",
    "    \n",
    "    # Devolvemos las estadísticas del autobús como una tupla\n",
    "    return paradas, max_ocupacion, media_ocupacion, desviacion_estandar\n",
    "\n",
    "lista_elementos = [(5, 0), (6, 1), (4, 3), (3, 5), (5, 6), (4, 2), (2, 6)]\n",
    "\n",
    "paradas, max_ocupacion, media_ocupacion, desviacion_estandar = calcular_estadisticas_autobus(lista_elementos)\n",
    "\n",
    "print(\"Número de paradas:\", paradas)\n",
    "print(\"Máxima ocupación:\", max_ocupacion)\n",
    "print(\"Media de ocupación:\", media_ocupacion)\n",
    "print(\"Desviación estándar de la ocupación:\", desviacion_estandar)"
   ]
  },
  {
   "attachments": {},
   "cell_type": "markdown",
   "metadata": {},
   "source": [
    "### Robin Hood ###"
   ]
  },
  {
   "cell_type": "code",
   "execution_count": 24,
   "metadata": {},
   "outputs": [
    {
     "name": "stdout",
     "output_type": "stream",
     "text": [
      "Hay al menos dos puntos que coinciden.\n",
      "Hay 10 puntos en Q1, 6 puntos en Q2, 2 puntos en Q3 y 2 puntos en Q4.\n",
      "Hay 0 puntos que caen fuera del cuadrante si la distancia máxima de los ejes es 9.\n"
     ]
    }
   ],
   "source": [
    "import math\n",
    "\n",
    "puntos = [(4,5), (-0,2), (4,7), (1,-3), (3,-2), (4,5),\n",
    "          (3,2), (5,7), (-5,7), (2,2), (-4,5), (0,-2),  #Definimos la lista de puntos\n",
    "          (-4,7), (-1,3), (-3,2), (-4,-5), (-3,2),\n",
    "          (5,7), (5,7), (2,2), (9, 9), (-8, -9)]\n",
    "\n",
    "if len(puntos) != len(set(puntos)):     #Comprobamos si hay dos puntos que coincidan\n",
    "    print(\"Hay al menos dos puntos que coinciden.\")\n",
    "else:\n",
    "    print(\"No hay puntos que coincidan.\")\n",
    "\n",
    "q1 = q2 = q3 = q4 = 0 #Contamos cuántos puntos hay en cada cuadrante\n",
    "for punto in puntos:\n",
    "    x, y = punto       #Definimos el valor de x e y en cada cuadrante\n",
    "    if x > 0 and y > 0:\n",
    "        q1 += 1\n",
    "    elif x < 0 and y > 0:\n",
    "        q2 += 1\n",
    "    elif x < 0 and y < 0:\n",
    "        q3 += 1\n",
    "    elif x > 0 and y < 0:\n",
    "        q4 += 1\n",
    "print(f\"Hay {q1} puntos en Q1, {q2} puntos en Q2, {q3} puntos en Q3 y {q4} puntos en Q4.\")\n",
    "\n",
    "\n",
    "\n",
    "fuera_cuadrante = 0     #Contamos cuántos puntos caen fuera del cuadrante si la distancia máxima de los ejes es 9\n",
    "for punto in puntos:\n",
    "    x, y = punto\n",
    "    if abs(x) > 9 or abs(y) > 9:\n",
    "        fuera_cuadrante += 1\n",
    "print(f\"Hay {fuera_cuadrante} puntos que caen fuera del cuadrante si la distancia máxima de los ejes es 9.\")"
   ]
  },
  {
   "attachments": {},
   "cell_type": "markdown",
   "metadata": {},
   "source": [
    "### Rock, paper, scissors ###\n"
   ]
  },
  {
   "cell_type": "code",
   "execution_count": 25,
   "metadata": {},
   "outputs": [
    {
     "name": "stdout",
     "output_type": "stream",
     "text": [
      "Partida 1\n",
      "Tu elección: papel\n",
      "Elección de la máquina: tijera\n",
      "Perdiste :(\n",
      "Puntos del jugador: 0\n",
      "Puntos de la máquina: 1\n",
      "\n",
      "Partida 2\n",
      "Tu elección: piedra\n",
      "Elección de la máquina: papel\n",
      "Perdiste :(\n",
      "Puntos del jugador: 0\n",
      "Puntos de la máquina: 2\n",
      "\n",
      "Partida 3\n",
      "Tu elección: tijera\n",
      "Elección de la máquina: papel\n",
      "¡Ganaste!\n",
      "Puntos del jugador: 1\n",
      "Puntos de la máquina: 2\n",
      "\n",
      "Partida 4\n",
      "Tu elección: tijera\n",
      "Elección de la máquina: piedra\n",
      "Perdiste :(\n",
      "Puntos del jugador: 1\n",
      "Puntos de la máquina: 3\n",
      "\n",
      "Partida 5\n",
      "Tu elección: piedra\n",
      "Elección de la máquina: piedra\n",
      "Empate\n",
      "Puntos del jugador: 1\n",
      "Puntos de la máquina: 3\n",
      "\n",
      "Juego terminado\n",
      "Perdiste el juego :(\n"
     ]
    }
   ],
   "source": [
    "import random\n",
    "\n",
    "opciones = ['piedra', 'papel', 'tijera']  #Definimos las opciones posibles del jugador y la máquina\n",
    "puntos_jugador = 0\n",
    "puntos_maquina = 0      #Definimos los puntos de inicio de jugador y máquina\n",
    "\n",
    "for i in range(5):  #Se define el número máximo de partidas\n",
    "    print(f\"Partida {i+1}\")\n",
    "    opcion_maquina = random.choice(opciones)\n",
    "    opcion_jugador = input(\"Elije piedra, papel o tijera: \").lower()  #Definimos la elección randomizada de la máquina y la solicitud de nuestra opción\n",
    "\n",
    "    while opcion_jugador not in opciones:\n",
    "        opcion_jugador = input(\"Elije piedra, papel o tijera: \").lower()  #Definimos que la opción esté en las definidas\n",
    "\n",
    "    print(f\"Tu elección: {opcion_jugador}\")\n",
    "    print(f\"Elección de la máquina: {opcion_maquina}\")\n",
    "\n",
    "    if opcion_jugador == opcion_maquina:    #Programamos los resultados de los posibles enfrentamientos\n",
    "        print(\"Empate\")\n",
    "    elif (opcion_jugador == 'piedra' and opcion_maquina == 'tijera') or \\\n",
    "         (opcion_jugador == 'papel' and opcion_maquina == 'piedra') or \\\n",
    "         (opcion_jugador == 'tijera' and opcion_maquina == 'papel'):\n",
    "        print(\"¡Ganaste!\")\n",
    "        puntos_jugador += 1\n",
    "    else:\n",
    "        print(\"Perdiste :(\")\n",
    "        puntos_maquina += 1\n",
    "\n",
    "    print(f\"Puntos del jugador: {puntos_jugador}\")\n",
    "    print(f\"Puntos de la máquina: {puntos_maquina}\")\n",
    "    print()\n",
    "\n",
    "print(\"Juego terminado\")\n",
    "if puntos_jugador > puntos_maquina:\n",
    "    print(\"¡Ganaste el juego!\")\n",
    "elif puntos_maquina > puntos_jugador:\n",
    "    print(\"Perdiste el juego :(\")\n",
    "else:\n",
    "    print(\"El juego terminó en empate\")"
   ]
  },
  {
   "attachments": {},
   "cell_type": "markdown",
   "metadata": {},
   "source": [
    "### Análisis de temperaturas a lo largo del día. Toma de decisión. ###"
   ]
  },
  {
   "cell_type": "code",
   "execution_count": 30,
   "metadata": {},
   "outputs": [],
   "source": [
    "def analizar_temperaturas(temperaturas):\n",
    "\n",
    "    temperaturas = [33,66,65,0,59,60,62,64,70,76,80,69,80,83,68,79,61,53,50,49,53,48,45,39]\n",
    "\n",
    "    min_temp = min(temperaturas)         #Temperatura mínima\n",
    "    print(\"Temperatura mínima:\", min_temp)\n",
    "    \n",
    "    max_temp = max(temperaturas)        #Temperatura máxima\n",
    "    print(\"Temperatura máxima:\", max_temp)\n",
    "    \n",
    "    temp_70 = [temp for temp in temperaturas if temp >= 70]     #Temperaturas iguales o superiores a 70\n",
    "    print(\"Temperaturas iguales o superiores a 70:\", temp_70)\n",
    "\n",
    "    media_temp = sum(temperaturas) / len(temperaturas)      #Media de temperaturas\n",
    "    print(\"Media de temperaturas:\", media_temp)\n",
    "\n",
    "    #No consigo que emita un resultado impreso. No loclaizo el error.\n"
   ]
  }
 ],
 "metadata": {
  "kernelspec": {
   "display_name": "Python 3",
   "language": "python",
   "name": "python3"
  },
  "language_info": {
   "codemirror_mode": {
    "name": "ipython",
    "version": 3
   },
   "file_extension": ".py",
   "mimetype": "text/x-python",
   "name": "python",
   "nbconvert_exporter": "python",
   "pygments_lexer": "ipython3",
   "version": "3.9.16"
  },
  "orig_nbformat": 4
 },
 "nbformat": 4,
 "nbformat_minor": 2
}
