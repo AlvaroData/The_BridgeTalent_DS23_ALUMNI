{
 "cells": [
  {
   "attachments": {},
   "cell_type": "markdown",
   "metadata": {},
   "source": [
    "# Primera clase de Python week 01\n",
    "\n",
    "## Este es un encabezado secundario\n",
    "\n",
    "### Header 3\n",
    "\n",
    "#### Header 4\n",
    "\n",
    "###### Header 5\n",
    "\n",
    "Texto normal por aquí, podemos añadir un **texto en negrita**, o *cursiva*, y además ***cursiva en negrita***.\n",
    "\n",
    "Podemos añadir una lista de elementos:\n",
    "\n",
    "* Elemento 1\n",
    "* Elemento 2\n",
    "* Elemento 3\n",
    "\n",
    "1. Elemento A\n",
    "2. Elemento B\n",
    "3. Elemento C\n",
    "\n",
    "* Elemento 1\n",
    "  * sub elemento 1\n",
    "\n",
    "Si quiero crear un pseudo-código\n",
    "\n",
    "```{python}\n",
    "    print(\"Hello World!\")\n",
    "```\n"
   ]
  },
  {
   "cell_type": "code",
   "execution_count": 1,
   "metadata": {},
   "outputs": [],
   "source": [
    "# Este es un comentario en una celda del código\n",
    "# Otra línea de comentario"
   ]
  },
  {
   "cell_type": "code",
   "execution_count": 5,
   "metadata": {},
   "outputs": [],
   "source": [
    "# Definimos esta funcion no hace abs nada...\n",
    "\n",
    "def comentario(the_bridge=None):\n",
    "    \"\"\"\n",
    "    Este es un comentario de la función\n",
    "    viene bien crear una descripción de la misma\n",
    "    para comentar argumentos, resultado esperado...bla bla bla...bla\n",
    "    \n",
    "    \"\"\"\n",
    "    # print(\"Hola\")\n",
    "    pass \n"
   ]
  },
  {
   "attachments": {},
   "cell_type": "markdown",
   "metadata": {},
   "source": [
    "Hemos observado que la función bla bla bal"
   ]
  },
  {
   "cell_type": "code",
   "execution_count": 3,
   "metadata": {},
   "outputs": [
    {
     "ename": "NameError",
     "evalue": "name 'comentario' is not defined",
     "output_type": "error",
     "traceback": [
      "\u001b[1;31m---------------------------------------------------------------------------\u001b[0m",
      "\u001b[1;31mNameError\u001b[0m                                 Traceback (most recent call last)",
      "Cell \u001b[1;32mIn[3], line 1\u001b[0m\n\u001b[1;32m----> 1\u001b[0m comentario()\n",
      "\u001b[1;31mNameError\u001b[0m: name 'comentario' is not defined"
     ]
    }
   ],
   "source": [
    "comentario()"
   ]
  },
  {
   "cell_type": "code",
   "execution_count": null,
   "metadata": {},
   "outputs": [],
   "source": []
  }
 ],
 "metadata": {
  "kernelspec": {
   "display_name": "ramp_up_py395",
   "language": "python",
   "name": "python3"
  },
  "language_info": {
   "codemirror_mode": {
    "name": "ipython",
    "version": 3
   },
   "file_extension": ".py",
   "mimetype": "text/x-python",
   "name": "python",
   "nbconvert_exporter": "python",
   "pygments_lexer": "ipython3",
   "version": "3.9.5"
  },
  "orig_nbformat": 4
 },
 "nbformat": 4,
 "nbformat_minor": 2
}
